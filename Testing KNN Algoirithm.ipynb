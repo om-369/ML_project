{
 "cells": [
  {
   "cell_type": "code",
   "execution_count": 16,
   "id": "f5778c8f",
   "metadata": {},
   "outputs": [],
   "source": [
    "import pandas as pd\n",
    "import numpy as np\n",
    "import pickle\n",
    "import json\n",
    "\n",
    "import warnings\n",
    "warnings.filterwarnings(\"ignore\")"
   ]
  },
  {
   "cell_type": "markdown",
   "id": "c8414098",
   "metadata": {},
   "source": [
    "# Loading Models"
   ]
  },
  {
   "cell_type": "code",
   "execution_count": 11,
   "id": "21c7331b",
   "metadata": {},
   "outputs": [],
   "source": [
    "with open(\"KNN_model.pkl\", \"rb\") as f:\n",
    "    knn_reg = pickle.load(f)"
   ]
  },
  {
   "cell_type": "code",
   "execution_count": 12,
   "id": "5a4c8084",
   "metadata": {},
   "outputs": [],
   "source": [
    "with open(\"Scaling.pkl\", \"rb\") as f:\n",
    "    std_scalar = pickle.load(f)"
   ]
  },
  {
   "cell_type": "code",
   "execution_count": 13,
   "id": "55e00f0e",
   "metadata": {},
   "outputs": [],
   "source": [
    "CRIM      =   0.03041\n",
    "ZN        =   0.00000\n",
    "INDUS     =   5.19000\n",
    "CHAS      =   0.00000\n",
    "NOX       =   0.51500\n",
    "RM        =   5.89500\n",
    "AGE       =  59.60000\n",
    "DIS       =   5.61500\n",
    "RAD       =   5.00000\n",
    "TAX       = 224.00000\n",
    "PTRATIO   =  20.20000\n",
    "B         = 394.81000\n",
    "LSTAT     =  10.56000"
   ]
  },
  {
   "cell_type": "code",
   "execution_count": 17,
   "id": "8e040639",
   "metadata": {},
   "outputs": [
    {
     "name": "stdout",
     "output_type": "stream",
     "text": [
      "Predicted price of house @ Boston city is --> 20.442857142857147\n"
     ]
    }
   ],
   "source": [
    "test_array = np.array([CRIM, ZN, INDUS, CHAS, NOX, RM, AGE, DIS, RAD, TAX, PTRATIO, B, LSTAT], ndmin = 2)\n",
    "\n",
    "# Testing dataset scaling\n",
    "scaled_array = std_scalar.transform(test_array)\n",
    "\n",
    "predicted_value = knn_reg.predict(scaled_array)[0]\n",
    "print(\"Predicted price of house @ Boston city is -->\",predicted_value)"
   ]
  },
  {
   "cell_type": "code",
   "execution_count": null,
   "id": "bf92b4c4",
   "metadata": {},
   "outputs": [],
   "source": []
  }
 ],
 "metadata": {
  "kernelspec": {
   "display_name": "Python 3 (ipykernel)",
   "language": "python",
   "name": "python3"
  },
  "language_info": {
   "codemirror_mode": {
    "name": "ipython",
    "version": 3
   },
   "file_extension": ".py",
   "mimetype": "text/x-python",
   "name": "python",
   "nbconvert_exporter": "python",
   "pygments_lexer": "ipython3",
   "version": "3.11.0"
  }
 },
 "nbformat": 4,
 "nbformat_minor": 5
}
